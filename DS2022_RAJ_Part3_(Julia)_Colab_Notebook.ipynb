{
  "nbformat": 4,
  "nbformat_minor": 0,
  "metadata": {
    "colab": {
      "name": "DS2022_RAJ_Part3_(Julia)_Colab_Notebook.ipynb",
      "provenance": [],
      "collapsed_sections": []
    },
    "kernelspec": {
      "display_name": "Julia",
      "language": "julia",
      "name": "julia"
    },
    "language_info": {
      "file_extension": ".jl",
      "mimetype": "application/julia",
      "name": "julia"
    }
  },
  "cells": [
    {
      "cell_type": "markdown",
      "source": [
        "# Excercises RAJ - Part 3 (Julia)\n",
        "\n",
        "## Task (Exercise 3):\n",
        "\n",
        "Create a 2x4 two dimensional matrix with random floats in it and in the next step determine the biggest element.\n",
        "\n",
        "## Solution:"
      ],
      "metadata": {
        "id": "WOVM43ew2USR"
      }
    },
    {
      "cell_type": "code",
      "source": [
        "A = rand(2,4)\n",
        "A"
      ],
      "metadata": {
        "colab": {
          "base_uri": "https://localhost:8080/"
        },
        "id": "hnA7VvOF1uhg",
        "outputId": "9621059c-1ced-42d0-cfbb-f50b68522e39"
      },
      "execution_count": null,
      "outputs": [
        {
          "output_type": "execute_result",
          "data": {
            "text/plain": [
              "2×4 Matrix{Float64}:\n",
              " 0.87901  0.474866  0.511303  0.788364\n",
              " 0.29694  0.371623  0.860148  0.0921233"
            ]
          },
          "metadata": {},
          "execution_count": 86
        }
      ]
    },
    {
      "cell_type": "code",
      "source": [
        "A[argmax(A)]"
      ],
      "metadata": {
        "colab": {
          "base_uri": "https://localhost:8080/"
        },
        "id": "ue4qBNJO4YuB",
        "outputId": "98e75a5c-8421-4699-d243-52936f284eac"
      },
      "execution_count": null,
      "outputs": [
        {
          "output_type": "execute_result",
          "data": {
            "text/plain": [
              "0.8790096325861555"
            ]
          },
          "metadata": {},
          "execution_count": 87
        }
      ]
    },
    {
      "cell_type": "markdown",
      "source": [
        "## Task/Solution (Exercise 4):\n",
        "\n",
        "1. Create two matrices of the same layout and test if addition and subtraction of the matrix works as expected: C = A + B \n",
        "\n"
      ],
      "metadata": {
        "id": "PIWEViQp43qj"
      }
    },
    {
      "cell_type": "code",
      "source": [
        "A = rand(1:10,2,2)\n",
        "B = rand(1:10,2,2)\n",
        "print(A, \" + \", B, \" = \", (A+B), \"\\n\")\n",
        "print(A, \" - \", B, \" = \", (A-B))"
      ],
      "metadata": {
        "colab": {
          "base_uri": "https://localhost:8080/"
        },
        "id": "zLQqoad65VxA",
        "outputId": "9ccc7142-8ae0-4651-cc74-f9420b42400c"
      },
      "execution_count": null,
      "outputs": [
        {
          "output_type": "stream",
          "name": "stdout",
          "text": [
            "[6 3; 9 10] + [2 10; 8 2] = [8 13; 17 12]\n",
            "[6 3; 9 10] - [2 10; 8 2] = [4 -7; 1 8]"
          ]
        }
      ]
    },
    {
      "cell_type": "markdown",
      "source": [
        "2. Now compare matrix multiplication either this way A * B and this way A .* B. Whats the difference?! "
      ],
      "metadata": {
        "id": "zYRddgQ75Zfk"
      }
    },
    {
      "cell_type": "code",
      "source": [
        "A = [3 3; 3 3]\n",
        "B = [2 2; 2 2]\n",
        "print(A, \" * \", B, \" = \", (A*B), \"\\n\")\n",
        "print(A, \". * \", B, \" = \", (A.*B), \"\\n\")"
      ],
      "metadata": {
        "colab": {
          "base_uri": "https://localhost:8080/"
        },
        "id": "8F2AQoPd5ctO",
        "outputId": "30401337-dfd2-44f2-a112-dca6fdc2e1a8"
      },
      "execution_count": null,
      "outputs": [
        {
          "output_type": "stream",
          "name": "stdout",
          "text": [
            "[3 3; 3 3] * [2 2; 2 2] = [12 12; 12 12]\n",
            "[3 3; 3 3]. * [2 2; 2 2] = [6 6; 6 6]\n"
          ]
        }
      ]
    },
    {
      "cell_type": "markdown",
      "source": [
        "3. What about matrix division with \"/\" or \"\\\\\"?! "
      ],
      "metadata": {
        "id": "BaQZA4is8lyO"
      }
    },
    {
      "cell_type": "code",
      "source": [
        "A = [1 3; 1 2]\n",
        "B = [0 2; 1 2]\n",
        "C = [3 8; 2 6]\n",
        "(C/B) # =A"
      ],
      "metadata": {
        "colab": {
          "base_uri": "https://localhost:8080/"
        },
        "id": "1DfO1FPv8p5e",
        "outputId": "a211d161-f6cb-4d43-830e-3423b59466da"
      },
      "execution_count": null,
      "outputs": [
        {
          "output_type": "execute_result",
          "data": {
            "text/plain": [
              "2×2 Matrix{Float64}:\n",
              " 1.0  3.0\n",
              " 1.0  2.0"
            ]
          },
          "metadata": {},
          "execution_count": 91
        }
      ]
    },
    {
      "cell_type": "code",
      "source": [
        "A = [1 3; 1 2]\n",
        "B = [0 2; 1 2]\n",
        "C = [3 8; 2 6]\n",
        "(A\\C) # =B"
      ],
      "metadata": {
        "colab": {
          "base_uri": "https://localhost:8080/"
        },
        "id": "qmv_BZpgMUCZ",
        "outputId": "5989d26d-53d5-4d7e-8784-0818ca29a938"
      },
      "execution_count": null,
      "outputs": [
        {
          "output_type": "execute_result",
          "data": {
            "text/plain": [
              "2×2 Matrix{Float64}:\n",
              " 0.0  2.0\n",
              " 1.0  2.0"
            ]
          },
          "metadata": {},
          "execution_count": 92
        }
      ]
    },
    {
      "cell_type": "markdown",
      "source": [
        "4. Create a 3x3 integer matrix A with useful numbers. Now try A+1, A-1, A*2, A/2."
      ],
      "metadata": {
        "id": "xTYk-SnV8qXW"
      }
    },
    {
      "cell_type": "code",
      "source": [
        "A = repeat([4], 3, 3)\n",
        "println(A)\n",
        "println(A.+1)\n",
        "println(A.-1)\n",
        "println(A.*2)\n",
        "println(A./2)"
      ],
      "metadata": {
        "colab": {
          "base_uri": "https://localhost:8080/"
        },
        "id": "oRN2nKBb8wZO",
        "outputId": "7c6fcd40-be54-4f36-ad00-3521c93b47ff"
      },
      "execution_count": null,
      "outputs": [
        {
          "output_type": "stream",
          "name": "stdout",
          "text": [
            "[4 4 4; 4 4 4; 4 4 4]\n",
            "[5 5 5; 5 5 5; 5 5 5]\n",
            "[3 3 3; 3 3 3; 3 3 3]\n",
            "[8 8 8; 8 8 8; 8 8 8]\n",
            "[2.0 2.0 2.0; 2.0 2.0 2.0; 2.0 2.0 2.0]\n"
          ]
        }
      ]
    },
    {
      "cell_type": "markdown",
      "source": [
        "5. Now multiply a 3x4 matrix with a suitable (4)vector"
      ],
      "metadata": {
        "id": "uuecSleM8xqI"
      }
    },
    {
      "cell_type": "code",
      "source": [
        "A = rand(1:4, 3, 4)\n",
        "println(A)\n",
        "println(A*[1, 2, 3, 4])"
      ],
      "metadata": {
        "colab": {
          "base_uri": "https://localhost:8080/"
        },
        "id": "HhcU9H0u82jm",
        "outputId": "10dc2831-358d-4818-d8eb-6d512343d749"
      },
      "execution_count": null,
      "outputs": [
        {
          "output_type": "stream",
          "name": "stdout",
          "text": [
            "[2 2 2 3; 1 4 4 4; 3 1 4 1]\n",
            "[24, 37, 21]\n"
          ]
        }
      ]
    }
  ]
}